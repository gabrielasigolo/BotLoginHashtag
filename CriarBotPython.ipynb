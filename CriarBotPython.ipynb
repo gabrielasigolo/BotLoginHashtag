{
 "cells": [
  {
   "cell_type": "markdown",
   "id": "c56b780c",
   "metadata": {},
   "source": [
    "# Criar Bot com Python\n",
    "\n",
    "### Bot no Computador - pyautogui"
   ]
  },
  {
   "cell_type": "code",
   "execution_count": 26,
   "id": "29c87a41",
   "metadata": {},
   "outputs": [],
   "source": [
    "from time import sleep\n",
    "import pyautogui\n",
    "\n",
    "pyautogui.PAUSE = 1\n",
    "# Abrir a ferramenta (arquivo excel)\n",
    "pyautogui.click(x=474, y=750)\n",
    "pyautogui.click(x=80, y=251)\n",
    "pyautogui.click(x=355, y=282, clicks=2)\n",
    "pyautogui.click(x=214, y=286, clicks=2)\n",
    "sleep(4) #esperar o excel abrir\n",
    "# Preencher o login\n",
    "pyautogui.click(395, y=276)\n",
    "pyautogui.write(\"GabrielaSigolo\")\n",
    "# Preencher a senha\n",
    "pyautogui.click(x=420, y=324)\n",
    "pyautogui.write(\"227193\")\n",
    "# Clicar em fazer login\n",
    "pyautogui.click(x=371, y=433)"
   ]
  },
  {
   "cell_type": "code",
   "execution_count": null,
   "id": "40f52edf",
   "metadata": {},
   "outputs": [],
   "source": []
  },
  {
   "cell_type": "markdown",
   "id": "d54af9d3",
   "metadata": {},
   "source": [
    "### Bot na Internet - Selenium"
   ]
  },
  {
   "cell_type": "code",
   "execution_count": 50,
   "id": "836a35cd",
   "metadata": {},
   "outputs": [],
   "source": [
    "from selenium import webdriver\n",
    "from time import sleep\n",
    "\n",
    "nav = webdriver.Chrome(r'C:\\Users\\andre\\anaconda3\\chromedriver')\n",
    "nav.get(\"https://login.live.com/\")\n",
    "nav.find_element_by_xpath('//*[@id=\"i0116\"]').send_keys(\"gabrielasigolo12@hotmail.com\")\n",
    "element = nav.find_element_by_xpath('//*[@id=\"idSIButton9\"]')\n",
    "nav.execute_script(\"arguments[0].click();\", element)\n",
    "nav.find_element_by_xpath('//*[@id=\"i0118\"]').send_keys(\"22719322gaby\")\n",
    "sleep(1)\n",
    "nav.find_element_by_xpath('//*[@id=\"idSIButton9\"]').click()\n",
    "\n",
    "\n"
   ]
  },
  {
   "cell_type": "code",
   "execution_count": null,
   "id": "d62d6ca0",
   "metadata": {},
   "outputs": [],
   "source": []
  }
 ],
 "metadata": {
  "kernelspec": {
   "display_name": "Python 3",
   "language": "python",
   "name": "python3"
  },
  "language_info": {
   "codemirror_mode": {
    "name": "ipython",
    "version": 3
   },
   "file_extension": ".py",
   "mimetype": "text/x-python",
   "name": "python",
   "nbconvert_exporter": "python",
   "pygments_lexer": "ipython3",
   "version": "3.8.8"
  }
 },
 "nbformat": 4,
 "nbformat_minor": 5
}
